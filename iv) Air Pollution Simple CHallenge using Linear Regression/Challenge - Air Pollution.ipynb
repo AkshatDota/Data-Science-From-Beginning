{
 "cells": [
  {
   "cell_type": "markdown",
   "metadata": {},
   "source": [
    "# Challenge - Air Pollution\n",
    "## Air Pollution is Rising!\n",
    "## Predicting Pollution Levels using Machine Learning\n",
    "\n",
    "It is winter time in Delhi so Cody decided to go for a walk to the news stand and on reaching was surprised to see the air quality index of Delhi in the newspaper . So he decided to collect the air samples of different locations and then took these samples to his lab where he extracted five features of the air he collected which can be used to predict the air quality index and combined it with the air quality index given in the newspapers. You are provided with the data collected by Cody and your job is to design a machine learning model which given the features extracted by Cody can predict air quality. \n",
    "\n",
    "### Data consist of three csv files :-\n",
    "- Train.csv\n",
    "- Test.csv\n",
    "- Sample_Submission.csv\n",
    "1. Train:- The train data consists of five feature columns and one target column.All the feature columns are numeric and target value is also numeric.\n",
    "\n",
    "2. Test:- test data consist all the columns contained by train with the the exception of target column which u have to predict using the model trained on train data.\n",
    "\n",
    "3. Sample_Submission:- this file shows how your submission file must look like it consist of two columns one is id that is nothing but index and other is target which is the value predicted by your model.\n",
    "\n",
    "Before submitting please check the list below:\n",
    "\n",
    "The column names or headers of submission file must match with that given in sample submission file.\n",
    "\n",
    "Datatype of the columns of submission file must match with that of the given sample_submission file.\n",
    "\n",
    "The number of rows must be equal to given test cases and number of columns must be equal to the columns given in the sample submission file.\n",
    "\n",
    "###  Scoring & Leaderboard\n",
    "Maximum Score for this problem is 100 points. Your score is calculated using R2 Score (Multiplied by 100 & Rounded Off to Nearest Integer) your final score."
   ]
  },
  {
   "cell_type": "code",
   "execution_count": 45,
   "metadata": {},
   "outputs": [],
   "source": [
    "import pandas as pd\n",
    "import numpy as np\n",
    "from sklearn.linear_model import LinearRegression\n",
    "from sklearn.model_selection import train_test_split"
   ]
  },
  {
   "cell_type": "code",
   "execution_count": 48,
   "metadata": {},
   "outputs": [],
   "source": [
    "df = pd.read_csv('Data/Train/Train.csv')\n",
    "df_y = df['target'].values\n",
    "df_x = df.loc[:, df.columns!='target'].values"
   ]
  },
  {
   "cell_type": "code",
   "execution_count": 51,
   "metadata": {},
   "outputs": [],
   "source": [
    "X_train, X_test, y_train, y_test = train_test_split(df_x, df_y, test_size = 0.2)"
   ]
  },
  {
   "cell_type": "code",
   "execution_count": 53,
   "metadata": {},
   "outputs": [
    {
     "data": {
      "text/plain": [
       "0.9644939606164283"
      ]
     },
     "execution_count": 53,
     "metadata": {},
     "output_type": "execute_result"
    }
   ],
   "source": [
    "model = LinearRegression()\n",
    "model.fit(X_train, y_train)\n",
    "model.score(X_test, y_test)"
   ]
  },
  {
   "cell_type": "code",
   "execution_count": 56,
   "metadata": {},
   "outputs": [],
   "source": [
    "# Actual Test DataSet\n",
    "X_test = pd.read_csv('Data/Test/Test.csv').values"
   ]
  },
  {
   "cell_type": "code",
   "execution_count": 62,
   "metadata": {},
   "outputs": [],
   "source": [
    "# Predicting values \n",
    "y_pred = model.predict(X_test)"
   ]
  },
  {
   "cell_type": "code",
   "execution_count": 69,
   "metadata": {},
   "outputs": [],
   "source": [
    "# Saving the output in a CSV file for submitting the answer according to the output required\n",
    "df = pd.DataFrame(data = y_pred, columns = ['target'])\n",
    "idx = []\n",
    "for i in range(len(df)):\n",
    "    idx.append(i)\n",
    "df.insert(0, 'Id', idx)\n",
    "\n",
    "df.to_csv('ans.csv', index = False)"
   ]
  }
 ],
 "metadata": {
  "kernelspec": {
   "display_name": "Python 3",
   "language": "python",
   "name": "python3"
  },
  "language_info": {
   "codemirror_mode": {
    "name": "ipython",
    "version": 3
   },
   "file_extension": ".py",
   "mimetype": "text/x-python",
   "name": "python",
   "nbconvert_exporter": "python",
   "pygments_lexer": "ipython3",
   "version": "3.7.3"
  }
 },
 "nbformat": 4,
 "nbformat_minor": 2
}
