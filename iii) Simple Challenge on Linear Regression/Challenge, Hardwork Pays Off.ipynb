{
 "cells": [
  {
   "cell_type": "markdown",
   "metadata": {},
   "source": [
    "# Challenge - Hardwork Pays Off\n",
    "## Hardwork Pays Off\n",
    "### Predicting Exam Scores using Machine Learning\n",
    "Since you are a student of Coding Blocks, you are expected to work hard and get better results than others. To track your time and expected performance in the Machine Learning Challenge, Prateek bhayia has asked to you install walkatime on your device which is an efficient time tracking tool to track your daily coding activity. It measures how much time you have spend on coding daily.\n",
    "\n",
    "\n",
    "\n",
    "## Challenge\n",
    "\n",
    "In this challenge, Prateek bhayia gives you walkatime data of his past students and how they performed in the evaluation exam. Your task is to predict the score you will get given the amount of time you spend on coding daily.\n",
    "\n",
    "#### Input\n",
    "You are given one feature corresponding to time noted by walkatime.\n",
    "\n",
    "#### Output\n",
    "A scalar denoting the level of perfomance student achived by devoting the given time.\n",
    "\n",
    "\n",
    "Download the training data and upload your predictions for the testcases given below.\n",
    "\n",
    "Before submitting please check the list below:\n",
    "\n",
    "The column names or headers of submission file must match with that given in sample submission file.\n",
    "\n",
    "Datatype of the columns of submission file must match with that of the given sample_submission file.\n",
    "\n",
    "The number of rows must be equal to given test cases and number of columns must be equal to the columns given in the sample submission file.\n",
    "\n",
    "### Scoring & Leaderboard\n",
    "Maximum Score for this problem is 100 points. Your score is calculated using R2 Score (Multiplied by 100 & Rounded Off to Nearest Integer) your final score. You may score negative if your predictions are too far from expected output."
   ]
  },
  {
   "cell_type": "code",
   "execution_count": 28,
   "metadata": {},
   "outputs": [],
   "source": [
    "import numpy as np\n",
    "import pandas as pd\n",
    "import matplotlib.pyplot as plt"
   ]
  },
  {
   "cell_type": "code",
   "execution_count": 43,
   "metadata": {},
   "outputs": [],
   "source": [
    "X = pd.read_csv(\"Data\\Train\\Linear_X_Train.csv\").values\n",
    "y = pd.read_csv(\"Data\\Train\\Linear_Y_Train.csv\").values"
   ]
  },
  {
   "cell_type": "code",
   "execution_count": 44,
   "metadata": {},
   "outputs": [
    {
     "data": {
      "image/png": "[encoded data removed]",
      "text/plain": [
       "<Figure size 432x288 with 1 Axes>"
      ]
     },
     "metadata": {
      "needs_background": "light"
     },
     "output_type": "display_data"
    }
   ],
   "source": [
    "plt.scatter(X, y, color='orange')\n",
    "plt.xlabel(\"hardwork\")\n",
    "plt.ylabel(\"marks\")\n",
    "plt.show()"
   ]
  },
  {
   "cell_type": "markdown",
   "metadata": {},
   "source": [
    "### Preprocess - Col. Standaridzation\n",
    " - makes G.D works faster (converge)"
   ]
  },
  {
   "cell_type": "code",
   "execution_count": 45,
   "metadata": {},
   "outputs": [],
   "source": [
    "mu = X.mean()\n",
    "sig = X.std()\n",
    "\n",
    "X = (X - mu)/ sig"
   ]
  },
  {
   "cell_type": "markdown",
   "metadata": {},
   "source": [
    "# Linear Regression"
   ]
  },
  {
   "cell_type": "code",
   "execution_count": 46,
   "metadata": {},
   "outputs": [],
   "source": [
    "from sklearn.linear_model import LinearRegression\n",
    "from sklearn.model_selection import train_test_split"
   ]
  },
  {
   "cell_type": "code",
   "execution_count": 52,
   "metadata": {},
   "outputs": [],
   "source": [
    "X_train, X_test, y_train, y_test = train_test_split(X, y, test_size = 0.2)\n",
    "model = LinearRegression()\n",
    "model.fit(X_train, y_train)\n",
    "pred = model.predict(X_test)"
   ]
  },
  {
   "cell_type": "code",
   "execution_count": 53,
   "metadata": {},
   "outputs": [
    {
     "name": "stdout",
     "output_type": "stream",
     "text": [
      "Score: 0.9712221330135103\n"
     ]
    }
   ],
   "source": [
    "print(\"Score:\", model.score(X_test, y_test))"
   ]
  },
  {
   "cell_type": "code",
   "execution_count": 54,
   "metadata": {},
   "outputs": [],
   "source": [
    "X_test  = pd.read_csv(\"Data\\Test\\Linear_X_Test.csv\").values"
   ]
  },
  {
   "cell_type": "code",
   "execution_count": 55,
   "metadata": {},
   "outputs": [],
   "source": [
    "mu = X_test.mean()\n",
    "sig = X_test.std()\n",
    "\n",
    "X_test = (X_test - mu)/ sig"
   ]
  },
  {
   "cell_type": "code",
   "execution_count": 56,
   "metadata": {},
   "outputs": [],
   "source": [
    "y_pred = model.predict(X_test)"
   ]
  },
  {
   "cell_type": "code",
   "execution_count": null,
   "metadata": {},
   "outputs": [],
   "source": [
    "df = pd.DataFrame(data = y_pred, columns = ['y'])\n",
    "df.to_csv('a')"
   ]
  }
 ],
 "metadata": {
  "kernelspec": {
   "display_name": "Python 3",
   "language": "python",
   "name": "python3"
  },
  "language_info": {
   "codemirror_mode": {
    "name": "ipython",
    "version": 3
   },
   "file_extension": ".py",
   "mimetype": "text/x-python",
   "name": "python",
   "nbconvert_exporter": "python",
   "pygments_lexer": "ipython3",
   "version": "3.7.3"
  }
 },
 "nbformat": 4,
 "nbformat_minor": 2
}
