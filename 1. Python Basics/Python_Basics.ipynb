{
 "cells": [
  {
   "cell_type": "code",
   "execution_count": 3,
   "metadata": {
    "colab": {
     "base_uri": "https://localhost:8080/",
     "height": 34
    },
    "colab_type": "code",
    "id": "JBK-7u9lbjwy",
    "outputId": "f5ecbdca-6549-4c5a-dd69-63c36dc23980"
   },
   "outputs": [
    {
     "name": "stdout",
     "output_type": "stream",
     "text": [
      "Welcome to Coding Blocks.!!\n"
     ]
    }
   ],
   "source": [
    "# Shift + enter\n",
    "print(\"Welcome to Coding Blocks.!!\")"
   ]
  },
  {
   "cell_type": "code",
   "execution_count": 0,
   "metadata": {
    "colab": {},
    "colab_type": "code",
    "id": "cjRJks-scVng"
   },
   "outputs": [],
   "source": [
    "# variable\n",
    "a = 9"
   ]
  },
  {
   "cell_type": "code",
   "execution_count": 7,
   "metadata": {
    "colab": {
     "base_uri": "https://localhost:8080/",
     "height": 34
    },
    "colab_type": "code",
    "id": "HDVYRjjKcjjh",
    "outputId": "3fc2123d-e70b-4290-84ff-a25a387b3af4"
   },
   "outputs": [
    {
     "name": "stdout",
     "output_type": "stream",
     "text": [
      "9\n"
     ]
    }
   ],
   "source": [
    "print(a)"
   ]
  },
  {
   "cell_type": "code",
   "execution_count": 8,
   "metadata": {
    "colab": {
     "base_uri": "https://localhost:8080/",
     "height": 34
    },
    "colab_type": "code",
    "id": "SiS-1YRIcmjt",
    "outputId": "f71fbb96-b3e0-4db7-89fe-cd30a2d2e099"
   },
   "outputs": [
    {
     "data": {
      "text/plain": [
       "int"
      ]
     },
     "execution_count": 8,
     "metadata": {
      "tags": []
     },
     "output_type": "execute_result"
    }
   ],
   "source": [
    "type(a)"
   ]
  },
  {
   "cell_type": "code",
   "execution_count": 0,
   "metadata": {
    "colab": {},
    "colab_type": "code",
    "id": "QQBB3xHEii7d"
   },
   "outputs": [],
   "source": [
    "a = \"Hello\" "
   ]
  },
  {
   "cell_type": "code",
   "execution_count": 10,
   "metadata": {
    "colab": {
     "base_uri": "https://localhost:8080/",
     "height": 34
    },
    "colab_type": "code",
    "id": "T4gNYUStiq3H",
    "outputId": "a9e6b914-75dc-4261-e2a0-135915a3a321"
   },
   "outputs": [
    {
     "name": "stdout",
     "output_type": "stream",
     "text": [
      "Hello\n"
     ]
    }
   ],
   "source": [
    "print(a)"
   ]
  },
  {
   "cell_type": "code",
   "execution_count": 11,
   "metadata": {
    "colab": {
     "base_uri": "https://localhost:8080/",
     "height": 34
    },
    "colab_type": "code",
    "id": "DNlvxIsGit7z",
    "outputId": "b3868bec-b05c-4ac3-8735-4c0e209cfb2b"
   },
   "outputs": [
    {
     "data": {
      "text/plain": [
       "str"
      ]
     },
     "execution_count": 11,
     "metadata": {
      "tags": []
     },
     "output_type": "execute_result"
    }
   ],
   "source": [
    "type(a)"
   ]
  },
  {
   "cell_type": "code",
   "execution_count": 18,
   "metadata": {
    "colab": {
     "base_uri": "https://localhost:8080/",
     "height": 68
    },
    "colab_type": "code",
    "id": "4pUcizZjiwXR",
    "outputId": "055ebe12-f7c2-4785-e0a9-8b3dac09485f"
   },
   "outputs": [
    {
     "name": "stdout",
     "output_type": "stream",
     "text": [
      "num is smallar than 10\n",
      "i am inside else\n",
      "hey from else block\n"
     ]
    }
   ],
   "source": [
    "# If conditions\n",
    "num = 8\n",
    "\n",
    "if num>10:\n",
    "  print(\"num is greater than 10\")\n",
    "elif num<5:\n",
    "  print(\"num is smaller than 5\")\n",
    "else:\n",
    "  print(\"num is smallar than 10\")\n",
    "  print(\"i am inside else\")\n",
    "  print(\"hey from else block\")"
   ]
  },
  {
   "cell_type": "code",
   "execution_count": 0,
   "metadata": {
    "colab": {},
    "colab_type": "code",
    "id": "3k6MEGRijPJp"
   },
   "outputs": [],
   "source": [
    "#keywords identifiers\n",
    "import keyword"
   ]
  },
  {
   "cell_type": "code",
   "execution_count": 25,
   "metadata": {
    "colab": {
     "base_uri": "https://localhost:8080/",
     "height": 54
    },
    "colab_type": "code",
    "id": "7GZ1ySldk2Vy",
    "outputId": "025dcae7-9136-4ab5-c052-a46ced9439e0"
   },
   "outputs": [
    {
     "name": "stdout",
     "output_type": "stream",
     "text": [
      "['False', 'None', 'True', 'and', 'as', 'assert', 'break', 'class', 'continue', 'def', 'del', 'elif', 'else', 'except', 'finally', 'for', 'from', 'global', 'if', 'import', 'in', 'is', 'lambda', 'nonlocal', 'not', 'or', 'pass', 'raise', 'return', 'try', 'while', 'with', 'yield']\n"
     ]
    }
   ],
   "source": [
    "print(keyword.kwlist)"
   ]
  },
  {
   "cell_type": "code",
   "execution_count": 0,
   "metadata": {
    "colab": {},
    "colab_type": "code",
    "id": "tpLEjp5PlEbY"
   },
   "outputs": [],
   "source": [
    "a = 13\n",
    "b = 3"
   ]
  },
  {
   "cell_type": "code",
   "execution_count": 37,
   "metadata": {
    "colab": {
     "base_uri": "https://localhost:8080/",
     "height": 119
    },
    "colab_type": "code",
    "id": "jr_jSU4Dlg8q",
    "outputId": "874e4b36-1c0c-4da8-8962-0eb484309cae"
   },
   "outputs": [
    {
     "name": "stdout",
     "output_type": "stream",
     "text": [
      "16\n",
      "10\n",
      "39\n",
      "4.333333333333333\n",
      "4\n",
      "2197\n"
     ]
    }
   ],
   "source": [
    "# Numbers operations\n",
    "print(a+b)\n",
    "print(a-b)\n",
    "print(a*b)\n",
    "print(a/b) # float value\n",
    "print(a//b) # int divison\n",
    "print(a**b)  # a^b"
   ]
  },
  {
   "cell_type": "code",
   "execution_count": 0,
   "metadata": {
    "colab": {},
    "colab_type": "code",
    "id": "iAYHBemjlmBM"
   },
   "outputs": [],
   "source": [
    "var1 = \"Hello\"\n",
    "var2 = \" World\""
   ]
  },
  {
   "cell_type": "code",
   "execution_count": 41,
   "metadata": {
    "colab": {
     "base_uri": "https://localhost:8080/",
     "height": 34
    },
    "colab_type": "code",
    "id": "4s9apNgCmM7E",
    "outputId": "aff98552-9dca-4134-8b1c-527835ea2c0d"
   },
   "outputs": [
    {
     "data": {
      "text/plain": [
       "'Hello World'"
      ]
     },
     "execution_count": 41,
     "metadata": {
      "tags": []
     },
     "output_type": "execute_result"
    }
   ],
   "source": [
    "var1 + var2"
   ]
  },
  {
   "cell_type": "code",
   "execution_count": 42,
   "metadata": {
    "colab": {
     "base_uri": "https://localhost:8080/",
     "height": 34
    },
    "colab_type": "code",
    "id": "5NGi59_UmUQW",
    "outputId": "aec554d2-0b56-49bb-f965-7f729d48d303"
   },
   "outputs": [
    {
     "data": {
      "text/plain": [
       "'HelloHelloHello'"
      ]
     },
     "execution_count": 42,
     "metadata": {
      "tags": []
     },
     "output_type": "execute_result"
    }
   ],
   "source": [
    "var1*3"
   ]
  },
  {
   "cell_type": "code",
   "execution_count": 46,
   "metadata": {
    "colab": {
     "base_uri": "https://localhost:8080/",
     "height": 34
    },
    "colab_type": "code",
    "id": "87TUOOEhmgwk",
    "outputId": "5a32d772-f47b-46c6-d3a8-944ff3c64f42"
   },
   "outputs": [
    {
     "data": {
      "text/plain": [
       "'Hello13'"
      ]
     },
     "execution_count": 46,
     "metadata": {
      "tags": []
     },
     "output_type": "execute_result"
    }
   ],
   "source": [
    "var1 + str(a)"
   ]
  },
  {
   "cell_type": "code",
   "execution_count": 53,
   "metadata": {
    "colab": {
     "base_uri": "https://localhost:8080/",
     "height": 34
    },
    "colab_type": "code",
    "id": "2-6nz_5imsEu",
    "outputId": "1266382c-f572-4434-db51-c19b18ac7a7c"
   },
   "outputs": [
    {
     "data": {
      "text/plain": [
       "str"
      ]
     },
     "execution_count": 53,
     "metadata": {
      "tags": []
     },
     "output_type": "execute_result"
    }
   ],
   "source": [
    "type(a)"
   ]
  },
  {
   "cell_type": "code",
   "execution_count": 0,
   "metadata": {
    "colab": {},
    "colab_type": "code",
    "id": "6pObWC8wnL2R"
   },
   "outputs": [],
   "source": [
    "name = \"Mohit\"\n",
    "age = 20"
   ]
  },
  {
   "cell_type": "code",
   "execution_count": 58,
   "metadata": {
    "colab": {
     "base_uri": "https://localhost:8080/",
     "height": 34
    },
    "colab_type": "code",
    "id": "grGkNOiYoPr5",
    "outputId": "f9942931-6472-409e-8bdc-3d969c0f2bac"
   },
   "outputs": [
    {
     "name": "stdout",
     "output_type": "stream",
     "text": [
      "Hello Mohit, your age is 20\n"
     ]
    }
   ],
   "source": [
    "print(\"Hello \"+name+\", your age is \"+ str(age))"
   ]
  },
  {
   "cell_type": "code",
   "execution_count": 60,
   "metadata": {
    "colab": {
     "base_uri": "https://localhost:8080/",
     "height": 34
    },
    "colab_type": "code",
    "id": "cCcWFRFvo5hl",
    "outputId": "3274f707-6c0e-4879-baf5-2fedbb3d009c"
   },
   "outputs": [
    {
     "name": "stdout",
     "output_type": "stream",
     "text": [
      "2 1 1 3\n"
     ]
    }
   ],
   "source": [
    "a=2\n",
    "b=1\n",
    "print(a,b,a-b,a+b)"
   ]
  },
  {
   "cell_type": "code",
   "execution_count": 62,
   "metadata": {
    "colab": {
     "base_uri": "https://localhost:8080/",
     "height": 34
    },
    "colab_type": "code",
    "id": "ntJpIUvUpHUY",
    "outputId": "60a69db7-a52b-47cc-9548-b380c1c70354"
   },
   "outputs": [
    {
     "name": "stdout",
     "output_type": "stream",
     "text": [
      "Hello Mohit ,your age is  20\n"
     ]
    }
   ],
   "source": [
    "print(\"Hello\",name, \",your age is \", age)"
   ]
  },
  {
   "cell_type": "code",
   "execution_count": 63,
   "metadata": {
    "colab": {
     "base_uri": "https://localhost:8080/",
     "height": 34
    },
    "colab_type": "code",
    "id": "6BukzLCmpSqN",
    "outputId": "92b38474-8cbf-4db9-f5b1-2fee0409379b"
   },
   "outputs": [
    {
     "data": {
      "text/plain": [
       "'Hello Mohit, your age is 20'"
      ]
     },
     "execution_count": 63,
     "metadata": {
      "tags": []
     },
     "output_type": "execute_result"
    }
   ],
   "source": [
    "# format function\n",
    "\"Hello {}, your age is {}\".format(name, age) "
   ]
  },
  {
   "cell_type": "code",
   "execution_count": 66,
   "metadata": {
    "colab": {
     "base_uri": "https://localhost:8080/",
     "height": 34
    },
    "colab_type": "code",
    "id": "bslMuYSTpu01",
    "outputId": "5d51ca0a-ad71-4e00-f693-685c405bceea"
   },
   "outputs": [
    {
     "data": {
      "text/plain": [
       "'Hello Mohit, your age is 20.000 '"
      ]
     },
     "execution_count": 66,
     "metadata": {
      "tags": []
     },
     "output_type": "execute_result"
    }
   ],
   "source": [
    "# % percent method\n",
    "\"Hello %s, your age is %0.3f \"%(name, age)"
   ]
  },
  {
   "cell_type": "code",
   "execution_count": 0,
   "metadata": {
    "colab": {},
    "colab_type": "code",
    "id": "hfClB5TwqGzQ"
   },
   "outputs": [],
   "source": [
    "# f-literals"
   ]
  },
  {
   "cell_type": "code",
   "execution_count": 0,
   "metadata": {
    "colab": {},
    "colab_type": "code",
    "id": "MuVMvY9YqnfV"
   },
   "outputs": [],
   "source": []
  }
 ],
 "metadata": {
  "colab": {
   "name": "Python Basics",
   "provenance": []
  },
  "kernelspec": {
   "display_name": "Python 3",
   "language": "python",
   "name": "python3"
  },
  "language_info": {
   "codemirror_mode": {
    "name": "ipython",
    "version": 3
   },
   "file_extension": ".py",
   "mimetype": "text/x-python",
   "name": "python",
   "nbconvert_exporter": "python",
   "pygments_lexer": "ipython3",
   "version": "3.7.4"
  }
 },
 "nbformat": 4,
 "nbformat_minor": 1
}
